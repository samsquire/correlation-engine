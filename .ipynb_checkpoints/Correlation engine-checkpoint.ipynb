{
 "cells": [
  {
   "cell_type": "code",
   "execution_count": 181,
   "metadata": {},
   "outputs": [],
   "source": [
    "\n",
    "\n"
   ]
  },
  {
   "cell_type": "code",
   "execution_count": 187,
   "metadata": {},
   "outputs": [
    {
     "name": "stdout",
     "output_type": "stream",
     "text": [
      "You don't get annoyed with happy\n",
      "You don't get annoyed with hungry\n",
      "You don't get annoyed with food\n",
      "annoyed has a positive correlation with software @ 0.667\n",
      "happy has a positive correlation with hungry @ 0.612\n",
      "happy has a positive correlation with food @ 0.667\n",
      "You don't get happy with software\n",
      "hungry has a positive correlation with food @ 0.408\n",
      "You don't get hungry with software\n",
      "You don't get food with software\n"
     ]
    }
   ],
   "source": [
    "from collections import defaultdict\n",
    "items = []\n",
    "items.append(\"I am mighty #annoyed today #food\")\n",
    "items.append(\"I am #annoyed at this #software\")\n",
    "items.append(\"#software makes me #annoyed\")\n",
    "items.append(\"#food makes me #happy and #hungry\")\n",
    "items.append(\"#food again #happy\")\n",
    "\n",
    "from scipy.stats import pearsonr, spearmanr\n",
    "import re\n",
    "from itertools import combinations\n",
    "\n",
    "def allequal(data):\n",
    "    equality = data[0]\n",
    "    for item in data:\n",
    "        if item != equality:\n",
    "            return False\n",
    "    return True\n",
    "\n",
    "def correlate_hashags(items):\n",
    "    keys = set([])\n",
    "    presences = []\n",
    "    for item in items:\n",
    "        match = re.findall(\"#([A-Za-z0-9]*)\", item)\n",
    "        this_presences = {}\n",
    "        for matched_item in match:\n",
    "            this_presences[matched_item] = True\n",
    "            keys.add(matched_item)\n",
    "        presences.append(this_presences)\n",
    "    \n",
    "    run_correlation = True\n",
    "    for key, subkey in combinations(keys, 2):\n",
    "            data1 = []\n",
    "            data2 = []\n",
    "            run_correlation = True\n",
    "            for i, post in enumerate(items):\n",
    "                data1.append(key in presences[i])\n",
    "                data2.append(subkey in presences[i])\n",
    "            if allequal(data1):\n",
    "                print(\"Correlation is constant, {} appears everywhere\".format(key))\n",
    "                run_correlation = False\n",
    "            if allequal(data2):\n",
    "                print(\"Correlation is constant, {} appears everywhere\".format(subkey))\n",
    "                run_correlation = False\n",
    "            if run_correlation:\n",
    "                corr, _ = pearsonr(data1, data2)\n",
    "                # print(\"Testing {} and {} {:03f}\".format(key, subkey, corr))\n",
    "                yield (key, subkey, corr)\n",
    "\n",
    "corrs = correlate_hashags(items)\n",
    "for key, subkey, corr in corrs:\n",
    "    if corr > 0:\n",
    "        print(\"{} has a positive correlation with {} @ {:.3f}\".format(key, subkey, corr))\n",
    "    else:\n",
    "        # print(\"{} has a negative correlation with {} @ {:.3f}\".format(key, subkey, corr))\n",
    "        print(\"You don't get {} with {}\".format(key, subkey, corr))\n"
   ]
  },
  {
   "cell_type": "code",
   "execution_count": 2,
   "metadata": {},
   "outputs": [
    {
     "name": "stdout",
     "output_type": "stream",
     "text": [
      "[('Another cause of error', 16), ('Log line that causes the error', 15), ('Innocuous log line', 12), ('A third innocuous log line', 3)]\n"
     ]
    }
   ],
   "source": [
    "from collections import Counter\n",
    "from scipy.stats import pearsonr\n",
    "\n",
    "items = []\n",
    "items.append(\"2020-08-16 20:17 Another Innocuous log line\")\n",
    "items.append(\"2020-08-16 20:17 Log line that causes the error\")\n",
    "items.append(\"2020-08-16 20:17 ERROR: error caused\")\n",
    "items.append(\"2020-08-16 20:17 Innocuous log line\")\n",
    "items.append(\"2020-08-16 20:17 Log line that causes the error\")\n",
    "items.append(\"2020-08-16 20:17 ERROR: error caused\")\n",
    "items.append(\"2020-08-16 20:17 Log line that causes the error\")\n",
    "items.append(\"2020-08-16 20:17 ERROR: error caused\")\n",
    "items.append(\"2020-08-16 20:17 A third innocuous log line\")\n",
    "items.append(\"2020-08-16 20:17 Log line that causes the error\")\n",
    "items.append(\"2020-08-16 20:17 ERROR: error caused\")\n",
    "items.append(\"2020-08-16 20:17 Log line that causes the error\")\n",
    "items.append(\"2020-08-16 20:17 Innocuous log line\")\n",
    "items.append(\"2020-08-16 20:17 ERROR: error caused\")\n",
    "items.append(\"2020-08-16 20:17 Another cause of error\")\n",
    "items.append(\"2020-08-16 20:17 Innocuous log line\")\n",
    "items.append(\"2020-08-16 20:17 ERROR: error caused\")\n",
    "items.append(\"2020-08-16 20:17 Another cause of error\")\n",
    "items.append(\"2020-08-16 20:17 Innocuous log line\")\n",
    "items.append(\"2020-08-16 20:17 ERROR: error caused\")\n",
    "items.append(\"2020-08-16 20:17 Another cause of error\")\n",
    "items.append(\"2020-08-16 20:17 ERROR: error caused\")\n",
    "items.append(\"2020-08-16 20:17 Another cause of error\")\n",
    "items.append(\"2020-08-16 20:17 ERROR: error caused\")\n",
    "\n",
    "def find_error_cause(items):\n",
    "    chances = {}\n",
    "    for scanback in range(0, 10):\n",
    "        for line in items:\n",
    "            if \"ERROR\" in line:\n",
    "                continue\n",
    "            errors = []\n",
    "            logs = []\n",
    "            log_line_identity = line.split(\" \")[2:]\n",
    "            log_line = \" \".join(log_line_identity)\n",
    "            for _ in range(0, scanback):\n",
    "                errors.append(0)\n",
    "\n",
    "            for line in items:\n",
    "                if \"ERROR\" in line:\n",
    "                    errors.append(100)\n",
    "                else:\n",
    "                    errors.append(0)\n",
    "\n",
    "            for line in items:\n",
    "                if log_line in line:\n",
    "                    logs.append(100)\n",
    "                else:\n",
    "                    logs.append(0)\n",
    "\n",
    "            for _ in range(0, scanback):\n",
    "                logs.append(0)\n",
    "\n",
    "            corr, _ = pearsonr(errors, logs)\n",
    "\n",
    "            if corr > 0:\n",
    "                chances[log_line] = chances.get(log_line, 0) + 1\n",
    "    return Counter(chances).most_common()\n",
    "\n",
    "            \n",
    "\n",
    "chances = find_error_cause(items)\n",
    "print(chances)"
   ]
  },
  {
   "cell_type": "code",
   "execution_count": 73,
   "metadata": {},
   "outputs": [
    {
     "name": "stdout",
     "output_type": "stream",
     "text": [
      "  (0, 1)\t1\n",
      "  (0, 3)\t1\n",
      "  (0, 4)\t1\n",
      "  (0, 5)\t1\n",
      "  (1, 0)\t1\n",
      "  (1, 2)\t1\n"
     ]
    }
   ],
   "source": [
    "from sklearn.feature_extraction.text import CountVectorizer\n",
    "\n",
    "cv = CountVectorizer(binary=True)\n",
    "cv.fit([\"hello how are you\", \"i am fine\"])\n",
    "X = cv.transform([\"hello how are you\", \"i am fine\"])\n",
    "X_test = cv.transform([\"how are you\"])\n",
    "print(X)"
   ]
  },
  {
   "cell_type": "code",
   "execution_count": 7,
   "metadata": {},
   "outputs": [],
   "source": [
    "feature_to_coef = {\n",
    "    word: 0 for word in cv.get_feature_names()\n",
    "}"
   ]
  },
  {
   "cell_type": "code",
   "execution_count": null,
   "metadata": {},
   "outputs": [],
   "source": []
  },
  {
   "cell_type": "code",
   "execution_count": 42,
   "metadata": {},
   "outputs": [
    {
     "name": "stdout",
     "output_type": "stream",
     "text": [
      "              Person  Salary (in USD)\n",
      "0        Jason Brown             1175\n",
      "1        Jacob Stein             2220\n",
      "2         Cody Brown             1537\n",
      "3      Larry Morales             1502\n",
      "4  Jessica Hendricks             1211\n"
     ]
    }
   ],
   "source": [
    "# Import the necessary packages\n",
    "import pandas as pd\n",
    "import numpy as np\n",
    "import matplotlib.pyplot as plt\n",
    "\n",
    "# Comment out the following line if you are using Jupyter Notebook\n",
    "# %matplotlib inline\n",
    "# Use a predefined style set\n",
    "plt.style.use('ggplot')\n",
    "\n",
    "# Import Faker\n",
    "from faker import Faker\n",
    "fake = Faker()\n",
    "\n",
    "# To ensure the results are reproducible\n",
    "Faker.seed(4321)\n",
    "\n",
    "names_list = []\n",
    "\n",
    "fake = Faker()\n",
    "for _ in range(100):\n",
    "  names_list.append(fake.name())\n",
    "\n",
    "# To ensure the results are reproducible\n",
    "np.random.seed(7)\n",
    "\n",
    "salaries = []\n",
    "for _ in range(100):\n",
    "    salary = np.random.randint(1000,2500)\n",
    "    salaries.append(salary)\n",
    "\n",
    "# Create pandas DataFrame\n",
    "salary_df = pd.DataFrame(\n",
    "    {'Person': names_list,\n",
    "     'Salary (in USD)': salaries\n",
    "    })\n",
    "\n",
    "# Print a subsection of the DataFrame\n",
    "print(salary_df.head())"
   ]
  },
  {
   "cell_type": "code",
   "execution_count": 43,
   "metadata": {},
   "outputs": [
    {
     "name": "stdout",
     "output_type": "stream",
     "text": [
      "Person             Miss Amanda Harris MD\n",
      "Salary (in USD)                       23\n",
      "Name: 16, dtype: object\n",
      "Person             Joyce Bishop\n",
      "Salary (in USD)              17\n",
      "Name: 65, dtype: object\n"
     ]
    }
   ],
   "source": [
    "salary_df.at[16, 'Salary (in USD)'] = 23\n",
    "salary_df.at[65, 'Salary (in USD)'] = 17\n",
    "\n",
    "# Verify if the salaries were changed\n",
    "print(salary_df.loc[16])\n",
    "print(salary_df.loc[65])"
   ]
  },
  {
   "cell_type": "code",
   "execution_count": 44,
   "metadata": {},
   "outputs": [
    {
     "data": {
      "image/png": "[encoded data removed]",
      "text/plain": [
       "<Figure size 432x288 with 1 Axes>"
      ]
     },
     "metadata": {},
     "output_type": "display_data"
    }
   ],
   "source": [
    "salary_df['Salary (in USD)'].plot(kind='hist')\n",
    "plt.show()"
   ]
  },
  {
   "cell_type": "code",
   "execution_count": 45,
   "metadata": {},
   "outputs": [],
   "source": [
    "salary_raw = salary_df['Salary (in USD)'].values\n",
    "\n",
    "# For compatibility with the SciPy implementation\n",
    "salary_raw = salary_raw.reshape(-1, 1)\n",
    "salary_raw = salary_raw.astype('float64')"
   ]
  },
  {
   "cell_type": "code",
   "execution_count": 46,
   "metadata": {},
   "outputs": [],
   "source": [
    "from scipy.cluster.vq import kmeans\n",
    "    \n",
    "# Specify the data and the number of clusters to kmeans()\n",
    "centroids, avg_distance = kmeans(salary_raw, 4)"
   ]
  },
  {
   "cell_type": "code",
   "execution_count": 52,
   "metadata": {},
   "outputs": [],
   "source": [
    "from scipy.cluster.vq import vq\n",
    "groups, cdist = vq(salary_raw, centroids)"
   ]
  },
  {
   "cell_type": "code",
   "execution_count": 53,
   "metadata": {},
   "outputs": [
    {
     "data": {
      "image/png": "[encoded data removed]",
      "text/plain": [
       "<Figure size 432x288 with 1 Axes>"
      ]
     },
     "metadata": {},
     "output_type": "display_data"
    }
   ],
   "source": [
    "plt.scatter(salary_raw, np.arange(0,100), c=groups)\n",
    "plt.xlabel('Salaries in (USD)')\n",
    "plt.ylabel('Indices')\n",
    "plt.show()"
   ]
  },
  {
   "cell_type": "code",
   "execution_count": 54,
   "metadata": {},
   "outputs": [],
   "source": [
    "from pyod.models.knn import KNN"
   ]
  },
  {
   "cell_type": "code",
   "execution_count": 58,
   "metadata": {},
   "outputs": [
    {
     "data": {
      "text/plain": [
       "KNN(algorithm='auto', contamination=0.02, leaf_size=30, method='largest',\n",
       "  metric='minkowski', metric_params=None, n_jobs=1, n_neighbors=5, p=2,\n",
       "  radius=1.0)"
      ]
     },
     "execution_count": 58,
     "metadata": {},
     "output_type": "execute_result"
    }
   ],
   "source": [
    "X = salary_df['Salary (in USD)'].values.reshape(-1,1)\n",
    "\n",
    "\n",
    "# Train kNN detector\n",
    "clf = KNN(contamination=0.02, n_neighbors=5)\n",
    "clf.fit(X)"
   ]
  },
  {
   "cell_type": "code",
   "execution_count": 60,
   "metadata": {},
   "outputs": [],
   "source": [
    "y_train_pred = clf.labels_ \n",
    "    \n",
    "# Outlier scores\n",
    "y_train_scores = clf.decision_scores_"
   ]
  },
  {
   "cell_type": "code",
   "execution_count": 69,
   "metadata": {},
   "outputs": [
    {
     "name": "stdout",
     "output_type": "stream",
     "text": [
      "Person             Miss Amanda Harris MD\n",
      "Salary (in USD)                       23\n",
      "class                                  1\n",
      "Name: 16, dtype: object\n",
      "KNN ROC:1.0, precision @ rank n:1.0\n"
     ]
    }
   ],
   "source": [
    "salary_df['class'] = 0\n",
    "\n",
    "# Manually edit the labels for the anomalies\n",
    "salary_df.at[16, 'class'] = 1\n",
    "salary_df.at[65, 'class'] = 1\n",
    "y = salary_df['class'].values\n",
    "\n",
    "# Veirfy \n",
    "print(salary_df.loc[16])\n",
    "\n",
    "from pyod.utils import evaluate_print\n",
    "\n",
    "# Evaluate on the training data\n",
    "evaluate_print('KNN', y, y_train_scores)"
   ]
  },
  {
   "cell_type": "code",
   "execution_count": 67,
   "metadata": {},
   "outputs": [],
   "source": [
    "X_test = np.array([[1000]])"
   ]
  },
  {
   "cell_type": "code",
   "execution_count": 68,
   "metadata": {},
   "outputs": [
    {
     "data": {
      "text/plain": [
       "array([0])"
      ]
     },
     "execution_count": 68,
     "metadata": {},
     "output_type": "execute_result"
    }
   ],
   "source": [
    "clf.predict(X_test)"
   ]
  },
  {
   "cell_type": "code",
   "execution_count": 77,
   "metadata": {},
   "outputs": [
    {
     "data": {
      "text/plain": [
       "<2x6 sparse matrix of type '<class 'numpy.int64'>'\n",
       "\twith 6 stored elements in Compressed Sparse Row format>"
      ]
     },
     "execution_count": 77,
     "metadata": {},
     "output_type": "execute_result"
    }
   ],
   "source": [
    "X"
   ]
  },
  {
   "cell_type": "code",
   "execution_count": 158,
   "metadata": {},
   "outputs": [
    {
     "name": "stdout",
     "output_type": "stream",
     "text": [
      "8\n"
     ]
    }
   ],
   "source": [
    "from sklearn.feature_extraction.text import CountVectorizer\n",
    "from numpy import array, pad, append\n",
    "class WordIdentifier():\n",
    "    def __init__(self):\n",
    "        self.words = {}\n",
    "    def fit(self, data):\n",
    "        lines = []\n",
    "        for line in data:\n",
    "            words = line.split(\" \")\n",
    "            line_ids = []\n",
    "            for word in words:\n",
    "                if word in self.words:\n",
    "                    word_id = self.words[word]\n",
    "                else:\n",
    "                    word_id = len(self.words.values())\n",
    "                    self.words[word] = word_id\n",
    "                \n",
    "          \n",
    "        \n",
    "    def test(self, data):\n",
    "        weirdness_score = 0\n",
    "        for line in data:\n",
    "            words = line.split(\" \")\n",
    "            for word in words:\n",
    "                if word not in self.words:\n",
    "                    weirdness_score = weirdness_score + 1\n",
    "                    \n",
    "        return weirdness_score\n",
    "\n",
    "cv = WordIdentifier()\n",
    "\n",
    "X = cv.fit([\"hello how are you\", \"i am fine\"])\n",
    "X_test = cv.test([\"this is a strange sentence\", \"another sentence here\"])\n",
    "\n",
    "print(X_test)"
   ]
  },
  {
   "cell_type": "markdown",
   "metadata": {},
   "source": [
    "strategies\n",
    "problems\n",
    "goals\n",
    "users\n",
    "following\n",
    "\n",
    "select * from user_orders inner join users user_orders on users.id = user_orders.user where user_orders.status = 'OPEN'\n",
    "\n",
    "PK = users-UID SK = order#STATUS#OID\n",
    "insert records for SK = order-OID too\n",
    "\n",
    "\n",
    "users-UID and begins_with(SK, order)\n",
    "\n",
    "\n",
    "\n",
    "home-page-view#strategies\n",
    "home-page-view#problems\n",
    "home-page-view#goals\n",
    "home-page-view#users\n",
    "\n",
    "db.add_entity(\"strategies\", \"SID\")\n",
    "db.add_entity(\"problems\", \"PID\")\n",
    "db.add_entity(\"goals\", \"GID\")\n",
    "db.add_entity(\"users\", \"UID\")\n",
    "db.add_entity(\"following\")\n",
    "\n",
    "db.add_acccess_pattern(\"strategies -*-> problems\")\n",
    " returns PK = strategies-SID#problems-PID SK= Index=Main\n",
    "db.add_acccess_pattern(\"problems :user\")\n",
    "returns PK = problem-PID SK=user-UID# Index=Main\n",
    " db.add_acccess_pattern(\"goals :user\")\n",
    "returns PK = goals-GID SK=user-UID# Index=Main\n"
   ]
  },
  {
   "cell_type": "code",
   "execution_count": 171,
   "metadata": {},
   "outputs": [
    {
     "name": "stdout",
     "output_type": "stream",
     "text": [
      "{'strategies-1': {'strategy': 'strategy name', 'id': 1}, 'strategies-1:problems-1': {'problem_name': 'problem name', 'id': 1}}\n"
     ]
    }
   ],
   "source": [
    "class Db():\n",
    "    def __init__(self):\n",
    "        self.partition_keys = []\n",
    "        self.db = {}\n",
    "        \n",
    "    def add_access_pattern(self, data):\n",
    "        from_table, operator, to_table = data.split(\" \")\n",
    "        if operator == \"-*->\":\n",
    "            self.partition_keys.append({\n",
    "                \"partition_key\": from_table,\n",
    "                \"sort_key\": to_table\n",
    "            })\n",
    "       \n",
    "        \n",
    "    def insert(self, field, data):\n",
    "        for partition_key in self.partition_keys:\n",
    "            if partition_key[\"partition_key\"].startswith(field):\n",
    "                subcollection = data[partition_key[\"sort_key\"]]\n",
    "                del data[partition_key[\"sort_key\"]]\n",
    "                parent_key = \"{}-{}\".format(partition_key[\"partition_key\"], data[\"id\"])\n",
    "                self.db[parent_key] = data\n",
    "                \n",
    "                for sub in subcollection:\n",
    "                    self.db[\"{}:{}-{}\".format(parent_key, partition_key[\"sort_key\"], sub[\"id\"])] = sub\n",
    "                \n",
    "db = Db()\n",
    "db.add_access_pattern(\"strategies -*-> problems\")\n",
    "db.insert(\"strategies\", {\"strategy\": \"strategy name\", \"id\": 1, \"problems\": [{\"problem_name\": \"problem name\", \"id\": 1}]})\n",
    "\n",
    "print(db.db)"
   ]
  },
  {
   "cell_type": "code",
   "execution_count": null,
   "metadata": {},
   "outputs": [],
   "source": [
    "import numpy as np\n",
    "\n",
    "def nonlin(x,deriv=False):\n",
    "\tif(deriv==True):\n",
    "\t    return x*(1-x)\n",
    "\n",
    "\treturn 1/(1+np.exp(-x))\n",
    "\n",
    "from sklearn.feature_extraction.text import CountVectorizer\n",
    "corpus = [\n",
    "     'This is the first document.',\n",
    "     'This document is the second document.',\n",
    "     'And this is the third one.',\n",
    "     'Is this the first document?',\n",
    "]\n",
    "\n",
    "vectorizer = CountVectorizer()\n",
    "X = vectorizer.fit_transform(corpus).toarray()\n",
    "\n",
    "print(X)\n",
    "#X = np.array([[0,0,1],\n",
    "#            [0,1,1],\n",
    "#            [1,0,1],\n",
    "#            [1,1,1]])\n",
    "                \n",
    "y = np.array([[1],\n",
    "\t\t\t[0],\n",
    "\t\t\t[0],\n",
    "\t\t\t[1]])\n",
    "\n",
    "np.random.seed(1)\n",
    "\n",
    "# randomly initialize our weights with mean 0\n",
    "syn0 = 2*np.random.random((9,9)) - 1\n",
    "syn1 = 2*np.random.random((9,9)) - 1\n",
    "syn2 = 2*np.random.random((9,9)) - 1\n",
    "\n",
    "for j in range(90000000):\n",
    "\n",
    "\t# Feed forward through layers 0, 1, and 2\n",
    "    l0 = X\n",
    "    l1 = nonlin(np.dot(l0,syn0))\n",
    "    l2 = nonlin(np.dot(l1,syn1))\n",
    "    l3 = nonlin(np.dot(l2,syn2))\n",
    "\n",
    "    # how much did we miss the target value?\n",
    "    l3_error = y - l3\n",
    "    \n",
    "    if (j% 10000) == 0:\n",
    "        print(\"Error:\" + str(np.mean(np.abs(l2_error))))\n",
    "        \n",
    "    # in what direction is the target value?\n",
    "    # were we really sure? if so, don't change too much.\n",
    "    l3_delta = l3_error * nonlin(l3,deriv=True)\n",
    "    l2_error = l3_delta.dot(syn2.T)\n",
    "    l2_delta = l2_error*nonlin(l2,deriv=True)\n",
    "\n",
    "    # how much did each l1 value contribute to the l2 error (according to the weights)?\n",
    "    l1_error = l2_delta.dot(syn1.T)\n",
    "    \n",
    "    \n",
    "    # in what direction is the target l1?\n",
    "    # were we really sure? if so, don't change too much.\n",
    "    l1_delta = l1_error * nonlin(l1,deriv=True)\n",
    "    \n",
    "    \n",
    "\n",
    "    syn2 += l2.T.dot(l3_delta)\n",
    "    syn1 += l1.T.dot(l2_delta)\n",
    "    syn0 += l0.T.dot(l1_delta)\n",
    "\n",
    "print(syn1)\n",
    "print(syn0)"
   ]
  },
  {
   "cell_type": "code",
   "execution_count": 200,
   "metadata": {},
   "outputs": [
    {
     "data": {
      "text/plain": [
       "array([[-0.42444932, -0.73994286, -0.96126608,  0.35767107],\n",
       "       [-0.57674377, -0.46890668, -0.01685368, -0.89327491],\n",
       "       [ 0.14823521, -0.70654285,  0.17861107,  0.39951672],\n",
       "       [-0.79533114, -0.17188802,  0.38880032, -0.17164146]])"
      ]
     },
     "execution_count": 200,
     "metadata": {},
     "output_type": "execute_result"
    }
   ],
   "source": [
    "2*np.random.random((4,4)) - 1"
   ]
  },
  {
   "cell_type": "code",
   "execution_count": null,
   "metadata": {},
   "outputs": [],
   "source": []
  }
 ],
 "metadata": {
  "kernelspec": {
   "display_name": "Python 3",
   "language": "python",
   "name": "python3"
  },
  "language_info": {
   "codemirror_mode": {
    "name": "ipython",
    "version": 3
   },
   "file_extension": ".py",
   "mimetype": "text/x-python",
   "name": "python",
   "nbconvert_exporter": "python",
   "pygments_lexer": "ipython3",
   "version": "3.8.3"
  }
 },
 "nbformat": 4,
 "nbformat_minor": 4
}
